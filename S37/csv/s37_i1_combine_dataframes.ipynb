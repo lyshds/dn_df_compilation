{
 "cells": [
  {
   "cell_type": "code",
   "execution_count": null,
   "metadata": {},
   "outputs": [],
   "source": [
    "### read in dataframes into one tidy dataframe"
   ]
  },
  {
   "cell_type": "code",
   "execution_count": 10,
   "metadata": {},
   "outputs": [],
   "source": [
    "from scipy import stats\n",
    " \n",
    "import numpy as np\n",
    "import matplotlib\n",
    "from neo.io import AxonIO\n",
    "#import seaborn as sns\n",
    "import matplotlib.pyplot as plt\n",
    "import os\n",
    "import pandas as pd"
   ]
  },
  {
   "cell_type": "code",
   "execution_count": 22,
   "metadata": {},
   "outputs": [],
   "source": [
    "### specify folder\n",
    "\n",
    "folder = '/home/alysha/analysis_files/S37/csv/'"
   ]
  },
  {
   "cell_type": "code",
   "execution_count": 250,
   "metadata": {},
   "outputs": [
    {
     "name": "stdout",
     "output_type": "stream",
     "text": [
      "b_spikes\n",
      ".ipynb_checkpoints\n",
      "Untitled Folder\n",
      "s37_i1_03_df_freq_upon_signal.csv\n",
      "s37_i1_05_df_freq_upon_signal.csv\n",
      "s37_i1_02_df_freq_upon_signal.csv\n",
      "s37_i1_04_df_freq_upon_signal.csv\n",
      "s37_i1_07_df_freq_upon_signal.csv\n",
      "s37_i1_combine_dataframes.ipynb\n",
      "s37_i1_06_df_freq_upon_signal.csv\n"
     ]
    }
   ],
   "source": [
    "all_dfs_i1 = pd.DataFrame()\n",
    "counter = 1\n",
    "\n",
    "for file in (os.listdir(folder)):\n",
    "    print file\n",
    "    if file.endswith(\".csv\"):\n",
    "        if counter ==1:\n",
    "            f1 = pd.read_csv(folder + file)\n",
    "            #f1.columns = ['1_0', '1_1', '1_2', '1_3', '1_4', '1_5', '1_6', '1_7', '1_8', '1_9', '1_10', '1_11']\n",
    "        if counter ==2:\n",
    "            f2 = pd.read_csv(folder + file)\n",
    "            #f2.columns = ['2_0', '2_1', '2_2', '2_3', '2_4', '2_5', '2_6', '2_7', '2_8', '2_9', '2_10', '2_11']\n",
    "        if counter ==3:\n",
    "            f3 = pd.read_csv(folder + file)\n",
    "            #f3.columns = ['3_0', '3_1', '3_2', '3_3', '3_4', '3_5', '3_6', '3_7', '3_8', '3_9', '3_10', '3_11']\n",
    "        if counter ==4:\n",
    "            f4 = pd.read_csv(folder + file)\n",
    "        if counter ==5:\n",
    "            f5 = pd.read_csv(folder + file)\n",
    "        if counter ==6:\n",
    "            f6 = pd.read_csv(folder + file)\n",
    "        if counter ==7:\n",
    "            f7 = pd.read_csv(folder + file)\n",
    "        if counter ==8:\n",
    "            f8 = pd.read_csv(folder + file)\n",
    "        if counter ==9:\n",
    "            f9 = pd.read_csv(folder + file)\n",
    "        if counter ==10:\n",
    "            f10 = pd.read_csv(folder + file)\n",
    "        #if counter == 1:\n",
    "        #    all_dfs_i1 = f\n",
    "        #else:\n",
    "           \n",
    "        #pd.concat([all_dfs_i1, f])\n",
    "        all_dfs_i1.add(f1, fill_value =0)\n",
    "        all_dfs_i1.add(f2, fill_value =0)\n",
    "        all_dfs_i1.add(f3, fill_value =0)\n",
    "        all_dfs_i1.add(f4, fill_value =0)\n",
    "        all_dfs_i1.add(f5, fill_value =0)\n",
    "        \n",
    "        all_dfs_i1 = pd.concat ([f1, f2, f3])\n",
    "        #all_dfs_i1.append(f)#, axis = 'columns')\n",
    "        counter += 1"
   ]
  },
  {
   "cell_type": "code",
   "execution_count": 100,
   "metadata": {},
   "outputs": [
    {
     "name": "stdout",
     "output_type": "stream",
     "text": [
      "b_spikes\n",
      ".ipynb_checkpoints\n",
      "Untitled Folder\n",
      "s37_i1_03_df_freq_upon_signal.csv\n",
      "s37_i1_05_df_freq_upon_signal.csv\n",
      "s37_i1_02_df_freq_upon_signal.csv\n",
      "s37_i1_04_df_freq_upon_signal.csv\n",
      "s37_i1_07_df_freq_upon_signal.csv\n",
      "s37_i1_combine_dataframes.ipynb\n",
      "s37_i1_06_df_freq_upon_signal.csv\n"
     ]
    }
   ],
   "source": [
    "'''all_dfs_i1 = pd.DataFrame()\n",
    "counter = 1\n",
    "\n",
    "for file in (os.listdir(folder)):\n",
    "    print file\n",
    "    if file.endswith(\".csv\"):\n",
    "        f = pd.read_csv(folder + file)\n",
    "        \n",
    "        #if counter == 1:\n",
    "        #    all_dfs_i1 = f\n",
    "        #else:\n",
    "           \n",
    "        #pd.concat([all_dfs_i1, f])\n",
    "        all_dfs_i1 = pd.concat([all_dfs_i1, f])\n",
    "        #all_dfs_i1.append(f)#, axis = 'columns')\n",
    "        counter += 1'''"
   ]
  },
  {
   "cell_type": "code",
   "execution_count": 251,
   "metadata": {},
   "outputs": [
    {
     "data": {
      "text/html": [
       "<div>\n",
       "<table border=\"1\" class=\"dataframe\">\n",
       "  <thead>\n",
       "    <tr style=\"text-align: right;\">\n",
       "      <th></th>\n",
       "      <th>0</th>\n",
       "      <th>1</th>\n",
       "      <th>10</th>\n",
       "      <th>11</th>\n",
       "      <th>12</th>\n",
       "      <th>2</th>\n",
       "      <th>3</th>\n",
       "      <th>4</th>\n",
       "      <th>5</th>\n",
       "      <th>6</th>\n",
       "      <th>7</th>\n",
       "      <th>8</th>\n",
       "      <th>9</th>\n",
       "    </tr>\n",
       "  </thead>\n",
       "  <tbody>\n",
       "    <tr>\n",
       "      <th>0</th>\n",
       "      <td>0</td>\n",
       "      <td>0.292556</td>\n",
       "      <td>6.269588</td>\n",
       "      <td>11.743973</td>\n",
       "      <td>21.276582</td>\n",
       "      <td>24.844704</td>\n",
       "      <td>12.804089</td>\n",
       "      <td>38.610013</td>\n",
       "      <td>14.064688</td>\n",
       "      <td>14.064688</td>\n",
       "      <td>14.064688</td>\n",
       "      <td>0.411345</td>\n",
       "      <td>0.522084</td>\n",
       "    </tr>\n",
       "    <tr>\n",
       "      <th>1</th>\n",
       "      <td>0</td>\n",
       "      <td>0.292556</td>\n",
       "      <td>6.269588</td>\n",
       "      <td>11.743973</td>\n",
       "      <td>21.276582</td>\n",
       "      <td>24.844704</td>\n",
       "      <td>12.804089</td>\n",
       "      <td>38.610013</td>\n",
       "      <td>14.064688</td>\n",
       "      <td>14.064688</td>\n",
       "      <td>14.064688</td>\n",
       "      <td>0.411345</td>\n",
       "      <td>0.522084</td>\n",
       "    </tr>\n",
       "    <tr>\n",
       "      <th>2</th>\n",
       "      <td>0</td>\n",
       "      <td>0.292556</td>\n",
       "      <td>6.269588</td>\n",
       "      <td>11.743973</td>\n",
       "      <td>21.276582</td>\n",
       "      <td>24.844704</td>\n",
       "      <td>12.804089</td>\n",
       "      <td>38.610013</td>\n",
       "      <td>14.064688</td>\n",
       "      <td>14.064688</td>\n",
       "      <td>14.064688</td>\n",
       "      <td>0.411345</td>\n",
       "      <td>0.522084</td>\n",
       "    </tr>\n",
       "    <tr>\n",
       "      <th>3</th>\n",
       "      <td>0</td>\n",
       "      <td>0.292556</td>\n",
       "      <td>6.269588</td>\n",
       "      <td>11.743973</td>\n",
       "      <td>21.276582</td>\n",
       "      <td>24.844704</td>\n",
       "      <td>12.804089</td>\n",
       "      <td>38.610013</td>\n",
       "      <td>14.064688</td>\n",
       "      <td>14.064688</td>\n",
       "      <td>14.064688</td>\n",
       "      <td>0.411345</td>\n",
       "      <td>0.522084</td>\n",
       "    </tr>\n",
       "    <tr>\n",
       "      <th>4</th>\n",
       "      <td>0</td>\n",
       "      <td>0.292556</td>\n",
       "      <td>6.269588</td>\n",
       "      <td>11.743973</td>\n",
       "      <td>21.276582</td>\n",
       "      <td>24.844704</td>\n",
       "      <td>12.804089</td>\n",
       "      <td>38.610013</td>\n",
       "      <td>14.064688</td>\n",
       "      <td>14.064688</td>\n",
       "      <td>14.064688</td>\n",
       "      <td>0.411345</td>\n",
       "      <td>0.522084</td>\n",
       "    </tr>\n",
       "  </tbody>\n",
       "</table>\n",
       "</div>"
      ],
      "text/plain": [
       "   0         1        10         11         12          2          3  \\\n",
       "0  0  0.292556  6.269588  11.743973  21.276582  24.844704  12.804089   \n",
       "1  0  0.292556  6.269588  11.743973  21.276582  24.844704  12.804089   \n",
       "2  0  0.292556  6.269588  11.743973  21.276582  24.844704  12.804089   \n",
       "3  0  0.292556  6.269588  11.743973  21.276582  24.844704  12.804089   \n",
       "4  0  0.292556  6.269588  11.743973  21.276582  24.844704  12.804089   \n",
       "\n",
       "           4          5          6          7         8         9  \n",
       "0  38.610013  14.064688  14.064688  14.064688  0.411345  0.522084  \n",
       "1  38.610013  14.064688  14.064688  14.064688  0.411345  0.522084  \n",
       "2  38.610013  14.064688  14.064688  14.064688  0.411345  0.522084  \n",
       "3  38.610013  14.064688  14.064688  14.064688  0.411345  0.522084  \n",
       "4  38.610013  14.064688  14.064688  14.064688  0.411345  0.522084  "
      ]
     },
     "execution_count": 251,
     "metadata": {},
     "output_type": "execute_result"
    }
   ],
   "source": [
    "all_dfs_i1.head()\n"
   ]
  },
  {
   "cell_type": "code",
   "execution_count": 252,
   "metadata": {},
   "outputs": [],
   "source": [
    "dfs_indiv = [f1, f2, f3, f4, f5, f6]  #f5"
   ]
  },
  {
   "cell_type": "code",
   "execution_count": 253,
   "metadata": {},
   "outputs": [
    {
     "ename": "SyntaxError",
     "evalue": "invalid syntax (<ipython-input-253-412a8bb38337>, line 3)",
     "output_type": "error",
     "traceback": [
      "\u001b[0;36m  File \u001b[0;32m\"<ipython-input-253-412a8bb38337>\"\u001b[0;36m, line \u001b[0;32m3\u001b[0m\n\u001b[0;31m    freq_error_fly_ '%i'= stats.sem(df,axis = 1) #% i\u001b[0m\n\u001b[0m                       ^\u001b[0m\n\u001b[0;31mSyntaxError\u001b[0m\u001b[0;31m:\u001b[0m invalid syntax\n"
     ]
    }
   ],
   "source": [
    "for i, df in enumerate(dfs_indiv):\n",
    "    mean_freq_change_fly_ + '%i' = df.mean(axis=1) #% i\n",
    "    freq_error_fly_ '%i'= stats.sem(df,axis = 1) #% i"
   ]
  },
  {
   "cell_type": "code",
   "execution_count": 254,
   "metadata": {},
   "outputs": [],
   "source": [
    "means = []\n",
    "\n",
    "for i, df in enumerate(dfs_indiv):\n",
    "    i = df.mean(axis=1) #% i\n",
    "    #freq_error_fly_ '%i'= stats.sem(df,axis = 1) #% i\n",
    "    #print(len(i))\n",
    "    means.append(i)"
   ]
  },
  {
   "cell_type": "code",
   "execution_count": 255,
   "metadata": {},
   "outputs": [],
   "source": [
    "mean_of_means = np.mean(means, axis = 0)\n",
    "#len(mean_of_means)"
   ]
  },
  {
   "cell_type": "code",
   "execution_count": 256,
   "metadata": {},
   "outputs": [],
   "source": [
    "errors =[]\n",
    "\n",
    "for j, df in enumerate(dfs_indiv):\n",
    "    #mean_freq_change_fly_ + '%i' = df.mean(axis=1) #% i\n",
    "    j= stats.sem(df,axis = 1) #% i\n",
    "    errors.append(j)"
   ]
  },
  {
   "cell_type": "code",
   "execution_count": 257,
   "metadata": {},
   "outputs": [],
   "source": [
    "mean_of_errors = np.mean(errors, axis = 0)"
   ]
  },
  {
   "cell_type": "code",
   "execution_count": 245,
   "metadata": {},
   "outputs": [],
   "source": [
    "#mean_freq_change = all_dfs_i1.mean(axis=1)\n",
    "#freq_error = stats.sem(all_dfs_i1,axis = )"
   ]
  },
  {
   "cell_type": "code",
   "execution_count": 246,
   "metadata": {},
   "outputs": [],
   "source": [
    "inds = list(all_dfs_i1.index.values)\n",
    "len(inds)\n",
    "inds_per_second=(len(inds))/0.75\n",
    "times = [index/inds_per_second for index in inds]\n",
    "\n",
    "times.append(15000/inds_per_second)"
   ]
  },
  {
   "cell_type": "code",
   "execution_count": 248,
   "metadata": {},
   "outputs": [
    {
     "data": {
      "text/plain": [
       "Text(0.5,0,u'Time (s)')"
      ]
     },
     "execution_count": 248,
     "metadata": {},
     "output_type": "execute_result"
    },
    {
     "data": {
      "image/png": "[encoded data removed]",
      "text/plain": [
       "<matplotlib.figure.Figure at 0x7f44f53a00d0>"
      ]
     },
     "metadata": {},
     "output_type": "display_data"
    }
   ],
   "source": [
    "fig =plt.figure(16)\n",
    "\n",
    "\n",
    "#wbf_means = wbf_means[0:len(wbf_means):10]\n",
    "#wbf_error = stats.sem(all_wbf,axis = 0)\n",
    "#wbf_error = wbf_error[0:len(wbf_error):10]\n",
    "\n",
    "ax2 = fig.add_subplot(212)\n",
    "\n",
    "#ax2.axvspan(0.25, .75, facecolor = 'r', edgecolor = 'none', alpha = 0.3)\n",
    "ax2.axvspan(times[5000], times[15000], facecolor = 'r', edgecolor = 'none', alpha = 0.2)\n",
    "ax2.plot(times[0:15000],mean_freq_change, 'b')\n",
    "ax2.fill_between(times[0:15000],mean_freq_change+freq_error, mean_freq_change-freq_error,color='k', alpha = 0.3, edgecolor = 'none')\n",
    "\n",
    "ax2.set_title(r'$\\mathrm{Activity\\ of\\ B2\\ Muscle:}$', size=12, horizontalalignment='center',  y=1.08)#   \\ \\mu=100,\\ \\sigma=15$', size=12, horizontalalignment='center',  y=1.08) #verticalalignment='top')\n",
    "ax2.set_ylabel('Frequency of B2 Firing', size=10)\n",
    "plt.xlabel('Time (s)', size=10) # $\\phi$', size=10)\n",
    "#ax2.title('B2 spike frequency')"
   ]
  },
  {
   "cell_type": "code",
   "execution_count": 231,
   "metadata": {},
   "outputs": [
    {
     "data": {
      "text/plain": [
       "[<matplotlib.lines.Line2D at 0x7f44ee874790>,\n",
       " <matplotlib.lines.Line2D at 0x7f44ee874c10>,\n",
       " <matplotlib.lines.Line2D at 0x7f44ee874d10>,\n",
       " <matplotlib.lines.Line2D at 0x7f44ee874e10>,\n",
       " <matplotlib.lines.Line2D at 0x7f44ee874ed0>,\n",
       " <matplotlib.lines.Line2D at 0x7f44ee874f90>,\n",
       " <matplotlib.lines.Line2D at 0x7f44ee87f090>,\n",
       " <matplotlib.lines.Line2D at 0x7f44ee87f150>,\n",
       " <matplotlib.lines.Line2D at 0x7f44ee87f210>,\n",
       " <matplotlib.lines.Line2D at 0x7f44ee87f2d0>,\n",
       " <matplotlib.lines.Line2D at 0x7f44ee87f390>,\n",
       " <matplotlib.lines.Line2D at 0x7f44ee87f450>]"
      ]
     },
     "execution_count": 231,
     "metadata": {},
     "output_type": "execute_result"
    },
    {
     "data": {
      "image/png": "[encoded data removed]",
      "text/plain": [
       "<matplotlib.figure.Figure at 0x7f44ef58c110>"
      ]
     },
     "metadata": {},
     "output_type": "display_data"
    }
   ],
   "source": [
    "fig =plt.figure(16)\n",
    "\n",
    "\n",
    "#wbf_means = wbf_means[0:len(wbf_means):10]\n",
    "#wbf_error = stats.sem(all_wbf,axis = 0)\n",
    "#wbf_error = wbf_error[0:len(wbf_error):10]\n",
    "\n",
    "ax2 = fig.add_subplot(212)\n",
    "\n",
    "#ax2.axvspan(0.25, .75, facecolor = 'r', edgecolor = 'none', alpha = 0.3)\n",
    "ax2.axvspan(times[5000], times[15000], facecolor = 'r', edgecolor = 'none', alpha = 0.2)\n",
    "ax2.plot(times[0:15000],f6, 'b')\n"
   ]
  },
  {
   "cell_type": "code",
   "execution_count": 249,
   "metadata": {},
   "outputs": [
    {
     "data": {
      "text/plain": [
       "Text(0.5,0,u'Time (s)')"
      ]
     },
     "execution_count": 249,
     "metadata": {},
     "output_type": "execute_result"
    },
    {
     "data": {
      "image/png": "[encoded data removed]",
      "text/plain": [
       "<matplotlib.figure.Figure at 0x7f44ee62add0>"
      ]
     },
     "metadata": {},
     "output_type": "display_data"
    }
   ],
   "source": [
    "fig =plt.figure(16)\n",
    "\n",
    "\n",
    "#wbf_means = wbf_means[0:len(wbf_means):10]\n",
    "#wbf_error = stats.sem(all_wbf,axis = 0)\n",
    "#wbf_error = wbf_error[0:len(wbf_error):10]\n",
    "\n",
    "ax2 = fig.add_subplot(212)\n",
    "\n",
    "#ax2.axvspan(0.25, .75, facecolor = 'r', edgecolor = 'none', alpha = 0.3)\n",
    "ax2.axvspan(times[5000], times[15000], facecolor = 'r', edgecolor = 'none', alpha = 0.2)\n",
    "ax2.plot(times[0:15000],mean_of_means, 'b')\n",
    "ax2.fill_between(times[0:15000],mean_of_means+mean_of_errors, mean_of_means-mean_of_errors,color='k', alpha = 0.3, edgecolor = 'none')\n",
    "\n",
    "ax2.set_title(r'$\\mathrm{Activity\\ of\\ i1\\ Muscle:}$', size=12, horizontalalignment='center',  y=1.08)#   \\ \\mu=100,\\ \\sigma=15$', size=12, horizontalalignment='center',  y=1.08) #verticalalignment='top')\n",
    "ax2.set_ylabel('Frequency of i1 Firing', size=10)\n",
    "plt.xlabel('Time (s)', size=10) # $\\phi$', size=10)\n",
    "#ax2.title('B2 spike frequency')"
   ]
  },
  {
   "cell_type": "code",
   "execution_count": 204,
   "metadata": {},
   "outputs": [],
   "source": [
    "from scipy.signal import savgol_filter\n",
    "mean_of_means_smooth = savgol_filter(mean_of_means, 133, 7)"
   ]
  },
  {
   "cell_type": "code",
   "execution_count": 205,
   "metadata": {},
   "outputs": [
    {
     "data": {
      "text/plain": [
       "Text(0.5,0,u'Time (s)')"
      ]
     },
     "execution_count": 205,
     "metadata": {},
     "output_type": "execute_result"
    },
    {
     "data": {
      "image/png": "[encoded data removed]",
      "text/plain": [
       "<matplotlib.figure.Figure at 0x7f44ef55fcd0>"
      ]
     },
     "metadata": {},
     "output_type": "display_data"
    }
   ],
   "source": [
    "fig =plt.figure(16)\n",
    "\n",
    "\n",
    "#wbf_means = wbf_means[0:len(wbf_means):10]\n",
    "#wbf_error = stats.sem(all_wbf,axis = 0)\n",
    "#wbf_error = wbf_error[0:len(wbf_error):10]\n",
    "\n",
    "ax2 = fig.add_subplot(212)\n",
    "\n",
    "#ax2.axvspan(0.25, .75, facecolor = 'r', edgecolor = 'none', alpha = 0.3)\n",
    "ax2.axvspan(times[5000], times[15000], facecolor = 'r', edgecolor = 'none', alpha = 0.2)\n",
    "ax2.plot(times[0:15000],mean_of_means_smooth, 'b')\n",
    "ax2.fill_between(times[0:15000],mean_of_means_smooth+mean_of_errors, mean_of_means_smooth-mean_of_errors,color='k', alpha = 0.3, edgecolor = 'none')\n",
    "\n",
    "ax2.set_title(r'$\\mathrm{Activity\\ of\\ i1\\ Muscle:}$', size=12, horizontalalignment='center',  y=1.08)#   \\ \\mu=100,\\ \\sigma=15$', size=12, horizontalalignment='center',  y=1.08) #verticalalignment='top')\n",
    "ax2.set_ylabel('Frequency of i1 Firing', size=10)\n",
    "plt.xlabel('Time (s)', size=10) # $\\phi$', size=10)\n",
    "#ax2.title('B2 spike frequency')"
   ]
  },
  {
   "cell_type": "code",
   "execution_count": 206,
   "metadata": {},
   "outputs": [],
   "source": [
    "def smooth(y, box_pts):\n",
    "    box = np.ones(box_pts)/box_pts\n",
    "    y_smooth = np.convolve(y, box, mode='same')\n",
    "    return y_smooth"
   ]
  },
  {
   "cell_type": "code",
   "execution_count": 218,
   "metadata": {},
   "outputs": [
    {
     "data": {
      "text/plain": [
       "[<matplotlib.lines.Line2D at 0x7f44eef81650>]"
      ]
     },
     "execution_count": 218,
     "metadata": {},
     "output_type": "execute_result"
    },
    {
     "data": {
      "image/png": "[encoded data removed]",
      "text/plain": [
       "<matplotlib.figure.Figure at 0x7f44ef0d4990>"
      ]
     },
     "metadata": {},
     "output_type": "display_data"
    }
   ],
   "source": [
    "plt.plot(times[:-1], smooth(mean_of_means, 190), 'r-', lw=2)"
   ]
  },
  {
   "cell_type": "code",
   "execution_count": 223,
   "metadata": {},
   "outputs": [
    {
     "data": {
      "text/plain": [
       "Text(0.5,0,u'Time (s)')"
      ]
     },
     "execution_count": 223,
     "metadata": {},
     "output_type": "execute_result"
    },
    {
     "data": {
      "image/png": "[encoded data removed]",
      "text/plain": [
       "<matplotlib.figure.Figure at 0x7f44eede7090>"
      ]
     },
     "metadata": {},
     "output_type": "display_data"
    }
   ],
   "source": [
    "fig =plt.figure(16)\n",
    "\n",
    "\n",
    "#wbf_means = wbf_means[0:len(wbf_means):10]\n",
    "#wbf_error = stats.sem(all_wbf,axis = 0)\n",
    "#wbf_error = wbf_error[0:len(wbf_error):10]\n",
    "\n",
    "ax2 = fig.add_subplot(212)\n",
    "\n",
    "#ax2.axvspan(0.25, .75, facecolor = 'r', edgecolor = 'none', alpha = 0.3)\n",
    "ax2.axvspan(times[5000], times[15000], facecolor = 'r', edgecolor = 'none', alpha = 0.2)\n",
    "ax2.plot(times[0:15000],smooth(mean_of_means,190), 'b')\n",
    "ax2.fill_between(times[0:15000],smooth(mean_of_means,190)+smooth(mean_of_errors, 190), smooth(mean_of_means,190)-smooth(mean_of_errors, 190),color='k', alpha = 0.2, edgecolor = 'none')\n",
    "\n",
    "ax2.set_title(r'$\\mathrm{Activity\\ of\\ i1\\ Muscle:}$', size=12, horizontalalignment='center',  y=1.08)#   \\ \\mu=100,\\ \\sigma=15$', size=12, horizontalalignment='center',  y=1.08) #verticalalignment='top')\n",
    "ax2.set_ylabel('Frequency of i1 Firing', size=10)\n",
    "plt.xlabel('Time (s)', size=10) # $\\phi$', size=10)\n",
    "#ax2.title('B2 spike frequency')"
   ]
  },
  {
   "cell_type": "code",
   "execution_count": null,
   "metadata": {},
   "outputs": [],
   "source": []
  }
 ],
 "metadata": {
  "kernelspec": {
   "display_name": "Python 2",
   "language": "python",
   "name": "python2"
  },
  "language_info": {
   "codemirror_mode": {
    "name": "ipython",
    "version": 2
   },
   "file_extension": ".py",
   "mimetype": "text/x-python",
   "name": "python",
   "nbconvert_exporter": "python",
   "pygments_lexer": "ipython2",
   "version": "2.7.12"
  }
 },
 "nbformat": 4,
 "nbformat_minor": 2
}
