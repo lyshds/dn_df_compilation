{
 "cells": [
  {
   "cell_type": "code",
   "execution_count": 22,
   "metadata": {},
   "outputs": [],
   "source": [
    "\"\"\"\n",
    "Created on Mon Dec  4 10:55:54 2017\n",
    "\n",
    "@author: alyshadesouza\n",
    "\"\"\"\n",
    "\n",
    " \n",
    "import numpy as np\n",
    "import matplotlib\n",
    "from neo.io import AxonIO\n",
    "#import seaborn as sns\n",
    "import matplotlib.pyplot as plt\n",
    "#from thllib import flylib as flb\n",
    "from matplotlib import pyplot as plt\n",
    "import numpy as np\n",
    "import scipy\n",
    "#import thllib #import util\n",
    "import figurefirst as fifi\n",
    "from scipy import signal\n",
    "\n",
    "import pandas as pd\n"
   ]
  },
  {
   "cell_type": "code",
   "execution_count": 34,
   "metadata": {},
   "outputs": [],
   "source": [
    "flydir = '/home/alysha/analysis_files/S114/' "
   ]
  },
  {
   "cell_type": "code",
   "execution_count": 35,
   "metadata": {},
   "outputs": [],
   "source": [
    "f1 = pd.read_csv(flydir + 's114_general_df_fly_01.csv')\n",
    "f2 = pd.read_csv(flydir + 's114_general_df_fly_02.csv')\n",
    "f3 = pd.read_csv(flydir + 's114_general_df_fly_03.csv')\n",
    "f4 = pd.read_csv(flydir + 's114_general_df_fly_04.csv')\n",
    "f5 = pd.read_csv(flydir + 's114_general_df_fly_05.csv')\n",
    "f6 = pd.read_csv(flydir + 's114_general_df_fly_06.csv')\n",
    "f7 = pd.read_csv(flydir + 's114_general_df_fly_07.csv')"
   ]
  },
  {
   "cell_type": "code",
   "execution_count": 36,
   "metadata": {},
   "outputs": [
    {
     "data": {
      "text/html": [
       "<div>\n",
       "<table border=\"1\" class=\"dataframe\">\n",
       "  <thead>\n",
       "    <tr style=\"text-align: right;\">\n",
       "      <th></th>\n",
       "      <th>times</th>\n",
       "      <th>fly_number</th>\n",
       "      <th>crimson_stimulus_intensity</th>\n",
       "      <th>WBF</th>\n",
       "      <th>order_in_seqence</th>\n",
       "      <th>L</th>\n",
       "      <th>R</th>\n",
       "      <th>WSA</th>\n",
       "      <th>inds</th>\n",
       "    </tr>\n",
       "  </thead>\n",
       "  <tbody>\n",
       "    <tr>\n",
       "      <th>0</th>\n",
       "      <td>31.088514</td>\n",
       "      <td>1</td>\n",
       "      <td>2</td>\n",
       "      <td>2.152405</td>\n",
       "      <td>0</td>\n",
       "      <td>389.92310</td>\n",
       "      <td>3.423157</td>\n",
       "      <td>386.49994</td>\n",
       "      <td>0</td>\n",
       "    </tr>\n",
       "    <tr>\n",
       "      <th>1</th>\n",
       "      <td>31.088564</td>\n",
       "      <td>1</td>\n",
       "      <td>2</td>\n",
       "      <td>2.152405</td>\n",
       "      <td>0</td>\n",
       "      <td>389.83154</td>\n",
       "      <td>3.422241</td>\n",
       "      <td>386.40930</td>\n",
       "      <td>1</td>\n",
       "    </tr>\n",
       "    <tr>\n",
       "      <th>2</th>\n",
       "      <td>31.088614</td>\n",
       "      <td>1</td>\n",
       "      <td>2</td>\n",
       "      <td>2.152710</td>\n",
       "      <td>0</td>\n",
       "      <td>389.86206</td>\n",
       "      <td>3.422546</td>\n",
       "      <td>386.43950</td>\n",
       "      <td>2</td>\n",
       "    </tr>\n",
       "    <tr>\n",
       "      <th>3</th>\n",
       "      <td>31.088664</td>\n",
       "      <td>1</td>\n",
       "      <td>2</td>\n",
       "      <td>2.152100</td>\n",
       "      <td>0</td>\n",
       "      <td>389.89258</td>\n",
       "      <td>3.423462</td>\n",
       "      <td>386.46912</td>\n",
       "      <td>3</td>\n",
       "    </tr>\n",
       "    <tr>\n",
       "      <th>4</th>\n",
       "      <td>31.088714</td>\n",
       "      <td>1</td>\n",
       "      <td>2</td>\n",
       "      <td>2.152405</td>\n",
       "      <td>0</td>\n",
       "      <td>389.89258</td>\n",
       "      <td>3.422852</td>\n",
       "      <td>386.46973</td>\n",
       "      <td>4</td>\n",
       "    </tr>\n",
       "  </tbody>\n",
       "</table>\n",
       "</div>"
      ],
      "text/plain": [
       "       times  fly_number  crimson_stimulus_intensity       WBF  \\\n",
       "0  31.088514           1                           2  2.152405   \n",
       "1  31.088564           1                           2  2.152405   \n",
       "2  31.088614           1                           2  2.152710   \n",
       "3  31.088664           1                           2  2.152100   \n",
       "4  31.088714           1                           2  2.152405   \n",
       "\n",
       "   order_in_seqence          L         R        WSA  inds  \n",
       "0                 0  389.92310  3.423157  386.49994     0  \n",
       "1                 0  389.83154  3.422241  386.40930     1  \n",
       "2                 0  389.86206  3.422546  386.43950     2  \n",
       "3                 0  389.89258  3.423462  386.46912     3  \n",
       "4                 0  389.89258  3.422852  386.46973     4  "
      ]
     },
     "execution_count": 36,
     "metadata": {},
     "output_type": "execute_result"
    }
   ],
   "source": [
    "df = pd.concat([f1, f2, f3, f4, f5, f6, f7])#, f8, f8])\n",
    "#df = pd.concat([f2, f3, f4])\n",
    "df.head()"
   ]
  },
  {
   "cell_type": "code",
   "execution_count": 37,
   "metadata": {},
   "outputs": [],
   "source": [
    "df.to_csv(flydir + 's114_kinematics.csv', index=False)"
   ]
  },
  {
   "cell_type": "code",
   "execution_count": null,
   "metadata": {},
   "outputs": [],
   "source": []
  }
 ],
 "metadata": {
  "kernelspec": {
   "display_name": "Python 2",
   "language": "python",
   "name": "python2"
  },
  "language_info": {
   "codemirror_mode": {
    "name": "ipython",
    "version": 2
   },
   "file_extension": ".py",
   "mimetype": "text/x-python",
   "name": "python",
   "nbconvert_exporter": "python",
   "pygments_lexer": "ipython2",
   "version": "2.7.12"
  }
 },
 "nbformat": 4,
 "nbformat_minor": 2
}
