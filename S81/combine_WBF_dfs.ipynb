{
 "cells": [
  {
   "cell_type": "code",
   "execution_count": 22,
   "metadata": {},
   "outputs": [],
   "source": [
    "\"\"\"\n",
    "Created on Mon Dec  4 10:55:54 2017\n",
    "\n",
    "@author: alyshadesouza\n",
    "\"\"\"\n",
    "\n",
    " \n",
    "import numpy as np\n",
    "import matplotlib\n",
    "from neo.io import AxonIO\n",
    "#import seaborn as sns\n",
    "import matplotlib.pyplot as plt\n",
    "#from thllib import flylib as flb\n",
    "from matplotlib import pyplot as plt\n",
    "import numpy as np\n",
    "import scipy\n",
    "#import thllib #import util\n",
    "import figurefirst as fifi\n",
    "from scipy import signal\n",
    "\n",
    "import pandas as pd\n"
   ]
  },
  {
   "cell_type": "code",
   "execution_count": 29,
   "metadata": {},
   "outputs": [],
   "source": [
    "flydir = '/home/alysha/analysis_files/S81/' "
   ]
  },
  {
   "cell_type": "code",
   "execution_count": 31,
   "metadata": {},
   "outputs": [],
   "source": [
    "f1 = pd.read_csv(flydir + 's81_general_df_fly_01.csv')\n",
    "f2 = pd.read_csv(flydir + 's81_general_df_fly_02.csv')\n",
    "f3 = pd.read_csv(flydir + 's81_general_df_fly_03.csv')\n",
    "f4 = pd.read_csv(flydir + 's81_general_df_fly_04.csv')\n",
    "f5 = pd.read_csv(flydir + 's81_general_df_fly_05.csv')\n",
    "f6 = pd.read_csv(flydir + 's81_general_df_fly_06.csv')\n",
    "f7 = pd.read_csv(flydir + 's81_general_df_fly_07.csv')"
   ]
  },
  {
   "cell_type": "code",
   "execution_count": 32,
   "metadata": {},
   "outputs": [
    {
     "data": {
      "text/html": [
       "<div>\n",
       "<table border=\"1\" class=\"dataframe\">\n",
       "  <thead>\n",
       "    <tr style=\"text-align: right;\">\n",
       "      <th></th>\n",
       "      <th>times</th>\n",
       "      <th>fly_number</th>\n",
       "      <th>crimson_stimulus_intensity</th>\n",
       "      <th>WBF</th>\n",
       "      <th>order_in_seqence</th>\n",
       "      <th>L</th>\n",
       "      <th>R</th>\n",
       "      <th>WSA</th>\n",
       "      <th>inds</th>\n",
       "    </tr>\n",
       "  </thead>\n",
       "  <tbody>\n",
       "    <tr>\n",
       "      <th>0</th>\n",
       "      <td>2.459102</td>\n",
       "      <td>1</td>\n",
       "      <td>2</td>\n",
       "      <td>1.992188</td>\n",
       "      <td>0</td>\n",
       "      <td>477.75270</td>\n",
       "      <td>3.062134</td>\n",
       "      <td>474.69055</td>\n",
       "      <td>0</td>\n",
       "    </tr>\n",
       "    <tr>\n",
       "      <th>1</th>\n",
       "      <td>2.459152</td>\n",
       "      <td>1</td>\n",
       "      <td>2</td>\n",
       "      <td>1.991272</td>\n",
       "      <td>0</td>\n",
       "      <td>477.72217</td>\n",
       "      <td>3.061523</td>\n",
       "      <td>474.66064</td>\n",
       "      <td>1</td>\n",
       "    </tr>\n",
       "    <tr>\n",
       "      <th>2</th>\n",
       "      <td>2.459202</td>\n",
       "      <td>1</td>\n",
       "      <td>2</td>\n",
       "      <td>1.992188</td>\n",
       "      <td>0</td>\n",
       "      <td>477.84424</td>\n",
       "      <td>3.062744</td>\n",
       "      <td>474.78150</td>\n",
       "      <td>2</td>\n",
       "    </tr>\n",
       "    <tr>\n",
       "      <th>3</th>\n",
       "      <td>2.459252</td>\n",
       "      <td>1</td>\n",
       "      <td>2</td>\n",
       "      <td>1.992188</td>\n",
       "      <td>0</td>\n",
       "      <td>477.78320</td>\n",
       "      <td>3.062439</td>\n",
       "      <td>474.72076</td>\n",
       "      <td>3</td>\n",
       "    </tr>\n",
       "    <tr>\n",
       "      <th>4</th>\n",
       "      <td>2.459302</td>\n",
       "      <td>1</td>\n",
       "      <td>2</td>\n",
       "      <td>1.991577</td>\n",
       "      <td>0</td>\n",
       "      <td>477.72217</td>\n",
       "      <td>3.061218</td>\n",
       "      <td>474.66095</td>\n",
       "      <td>4</td>\n",
       "    </tr>\n",
       "  </tbody>\n",
       "</table>\n",
       "</div>"
      ],
      "text/plain": [
       "      times  fly_number  crimson_stimulus_intensity       WBF  \\\n",
       "0  2.459102           1                           2  1.992188   \n",
       "1  2.459152           1                           2  1.991272   \n",
       "2  2.459202           1                           2  1.992188   \n",
       "3  2.459252           1                           2  1.992188   \n",
       "4  2.459302           1                           2  1.991577   \n",
       "\n",
       "   order_in_seqence          L         R        WSA  inds  \n",
       "0                 0  477.75270  3.062134  474.69055     0  \n",
       "1                 0  477.72217  3.061523  474.66064     1  \n",
       "2                 0  477.84424  3.062744  474.78150     2  \n",
       "3                 0  477.78320  3.062439  474.72076     3  \n",
       "4                 0  477.72217  3.061218  474.66095     4  "
      ]
     },
     "execution_count": 32,
     "metadata": {},
     "output_type": "execute_result"
    }
   ],
   "source": [
    "df = pd.concat([f1, f2, f3, f4, f5, f6, f7])#, f8, f8])\n",
    "#df = pd.concat([f2, f3, f4])\n",
    "df.head()"
   ]
  },
  {
   "cell_type": "code",
   "execution_count": 33,
   "metadata": {},
   "outputs": [],
   "source": [
    "df.to_csv(flydir + 's81_kinematics.csv', index=False)"
   ]
  },
  {
   "cell_type": "code",
   "execution_count": null,
   "metadata": {},
   "outputs": [],
   "source": []
  }
 ],
 "metadata": {
  "kernelspec": {
   "display_name": "Python 2",
   "language": "python",
   "name": "python2"
  },
  "language_info": {
   "codemirror_mode": {
    "name": "ipython",
    "version": 2
   },
   "file_extension": ".py",
   "mimetype": "text/x-python",
   "name": "python",
   "nbconvert_exporter": "python",
   "pygments_lexer": "ipython2",
   "version": "2.7.12"
  }
 },
 "nbformat": 4,
 "nbformat_minor": 2
}
