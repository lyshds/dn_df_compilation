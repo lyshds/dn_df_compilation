{
 "cells": [
  {
   "cell_type": "code",
   "execution_count": 22,
   "metadata": {},
   "outputs": [],
   "source": [
    "\"\"\"\n",
    "Created on Mon Dec  4 10:55:54 2017\n",
    "\n",
    "@author: alyshadesouza\n",
    "\"\"\"\n",
    "\n",
    " \n",
    "import numpy as np\n",
    "import matplotlib\n",
    "from neo.io import AxonIO\n",
    "#import seaborn as sns\n",
    "import matplotlib.pyplot as plt\n",
    "#from thllib import flylib as flb\n",
    "from matplotlib import pyplot as plt\n",
    "import numpy as np\n",
    "import scipy\n",
    "#import thllib #import util\n",
    "import figurefirst as fifi\n",
    "from scipy import signal\n",
    "\n",
    "import pandas as pd\n"
   ]
  },
  {
   "cell_type": "code",
   "execution_count": 24,
   "metadata": {},
   "outputs": [],
   "source": [
    "flydir = '/home/alysha/analysis_files/S109/' "
   ]
  },
  {
   "cell_type": "code",
   "execution_count": 25,
   "metadata": {},
   "outputs": [],
   "source": [
    "f1 = pd.read_csv(flydir + 's109_general_df_fly_01.csv')\n",
    "f2 = pd.read_csv(flydir + 's109_general_df_fly_02.csv')\n",
    "f3 = pd.read_csv(flydir + 's109_general_df_fly_03.csv')\n",
    "f4 = pd.read_csv(flydir + 's109_general_df_fly_04.csv')\n",
    "f5 = pd.read_csv(flydir + 's109_general_df_fly_05.csv')\n",
    "f6 = pd.read_csv(flydir + 's109_general_df_fly_06.csv')\n",
    "#f7 = pd.read_csv(flydir + 's109_general_df_fly_07.csv')"
   ]
  },
  {
   "cell_type": "code",
   "execution_count": 26,
   "metadata": {},
   "outputs": [
    {
     "data": {
      "text/html": [
       "<div>\n",
       "<table border=\"1\" class=\"dataframe\">\n",
       "  <thead>\n",
       "    <tr style=\"text-align: right;\">\n",
       "      <th></th>\n",
       "      <th>times</th>\n",
       "      <th>fly_number</th>\n",
       "      <th>crimson_stimulus_intensity</th>\n",
       "      <th>WBF</th>\n",
       "      <th>order_in_seqence</th>\n",
       "      <th>L</th>\n",
       "      <th>R</th>\n",
       "      <th>WSA</th>\n",
       "      <th>inds</th>\n",
       "    </tr>\n",
       "  </thead>\n",
       "  <tbody>\n",
       "    <tr>\n",
       "      <th>0</th>\n",
       "      <td>2.809102</td>\n",
       "      <td>1</td>\n",
       "      <td>2</td>\n",
       "      <td>1.907654</td>\n",
       "      <td>0</td>\n",
       "      <td>463.13477</td>\n",
       "      <td>3.381958</td>\n",
       "      <td>459.75280</td>\n",
       "      <td>0</td>\n",
       "    </tr>\n",
       "    <tr>\n",
       "      <th>1</th>\n",
       "      <td>2.809152</td>\n",
       "      <td>1</td>\n",
       "      <td>2</td>\n",
       "      <td>1.907349</td>\n",
       "      <td>0</td>\n",
       "      <td>462.98218</td>\n",
       "      <td>3.381043</td>\n",
       "      <td>459.60114</td>\n",
       "      <td>1</td>\n",
       "    </tr>\n",
       "    <tr>\n",
       "      <th>2</th>\n",
       "      <td>2.809202</td>\n",
       "      <td>1</td>\n",
       "      <td>2</td>\n",
       "      <td>1.907044</td>\n",
       "      <td>0</td>\n",
       "      <td>463.07373</td>\n",
       "      <td>3.381043</td>\n",
       "      <td>459.69270</td>\n",
       "      <td>2</td>\n",
       "    </tr>\n",
       "    <tr>\n",
       "      <th>3</th>\n",
       "      <td>2.809252</td>\n",
       "      <td>1</td>\n",
       "      <td>2</td>\n",
       "      <td>1.907654</td>\n",
       "      <td>0</td>\n",
       "      <td>463.10425</td>\n",
       "      <td>3.381958</td>\n",
       "      <td>459.72230</td>\n",
       "      <td>3</td>\n",
       "    </tr>\n",
       "    <tr>\n",
       "      <th>4</th>\n",
       "      <td>2.809302</td>\n",
       "      <td>1</td>\n",
       "      <td>2</td>\n",
       "      <td>1.907654</td>\n",
       "      <td>0</td>\n",
       "      <td>463.07373</td>\n",
       "      <td>3.381348</td>\n",
       "      <td>459.69238</td>\n",
       "      <td>4</td>\n",
       "    </tr>\n",
       "  </tbody>\n",
       "</table>\n",
       "</div>"
      ],
      "text/plain": [
       "      times  fly_number  crimson_stimulus_intensity       WBF  \\\n",
       "0  2.809102           1                           2  1.907654   \n",
       "1  2.809152           1                           2  1.907349   \n",
       "2  2.809202           1                           2  1.907044   \n",
       "3  2.809252           1                           2  1.907654   \n",
       "4  2.809302           1                           2  1.907654   \n",
       "\n",
       "   order_in_seqence          L         R        WSA  inds  \n",
       "0                 0  463.13477  3.381958  459.75280     0  \n",
       "1                 0  462.98218  3.381043  459.60114     1  \n",
       "2                 0  463.07373  3.381043  459.69270     2  \n",
       "3                 0  463.10425  3.381958  459.72230     3  \n",
       "4                 0  463.07373  3.381348  459.69238     4  "
      ]
     },
     "execution_count": 26,
     "metadata": {},
     "output_type": "execute_result"
    }
   ],
   "source": [
    "df = pd.concat([f1, f2, f3, f4, f5, f6])#, f7])#, f8, f8])\n",
    "#df = pd.concat([f2, f3, f4])\n",
    "df.head()"
   ]
  },
  {
   "cell_type": "code",
   "execution_count": 27,
   "metadata": {},
   "outputs": [],
   "source": [
    "df.to_csv(flydir + 's109_kinematics.csv', index=False)"
   ]
  },
  {
   "cell_type": "code",
   "execution_count": null,
   "metadata": {},
   "outputs": [],
   "source": []
  }
 ],
 "metadata": {
  "kernelspec": {
   "display_name": "Python 2",
   "language": "python",
   "name": "python2"
  },
  "language_info": {
   "codemirror_mode": {
    "name": "ipython",
    "version": 2
   },
   "file_extension": ".py",
   "mimetype": "text/x-python",
   "name": "python",
   "nbconvert_exporter": "python",
   "pygments_lexer": "ipython2",
   "version": "2.7.12"
  }
 },
 "nbformat": 4,
 "nbformat_minor": 2
}
