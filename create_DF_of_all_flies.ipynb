{
 "cells": [
  {
   "cell_type": "code",
   "execution_count": 7,
   "metadata": {},
   "outputs": [],
   "source": [
    "import numpy as np\n",
    "import matplotlib.pyplot as plt\n",
    "import matplotlib\n",
    "from neo.io import AxonIO\n",
    "import os\n",
    " "
   ]
  },
  {
   "cell_type": "code",
   "execution_count": 8,
   "metadata": {},
   "outputs": [],
   "source": [
    "#flydir = current_working_directory"
   ]
  },
  {
   "cell_type": "code",
   "execution_count": 9,
   "metadata": {},
   "outputs": [],
   "source": [
    "genotype = 37\n",
    "\n",
    "## enter genotype to add to DF here . ##"
   ]
  },
  {
   "cell_type": "code",
   "execution_count": 10,
   "metadata": {},
   "outputs": [
    {
     "name": "stdout",
     "output_type": "stream",
     "text": [
      "['times_01_df.csv', 'summary_figures_S248.ipynb', 'robofly_fourier_series_test.ipynb', '.ipynb_checkpoints', 'power_muscle_01_frequencies_df.csv', 'csv', 'Untitled Folder', 's37_i1_freq.ipynb', 's37_b1_01-Copy1.ipynb', 's37_power_muscle_freq_01.ipynb', 'hutch_n_spike.pdf', 'chrimson_01_df.csv', 'Untitled.ipynb', 's110_b2_freq.ipynb', 's37_b2_freq.ipynb', 'robofly_phase_shift_coefficients.ipynb', 's37_power_muscle_freq_02.ipynb', 'power_muscle_01_periods_df.csv', 's37_analysis_b1_phase.ipynb']\n"
     ]
    }
   ],
   "source": [
    "list_of_files = os.listdir('/home/alysha/analysis_files/S37')\n",
    "print list_of_files"
   ]
  },
  {
   "cell_type": "code",
   "execution_count": 11,
   "metadata": {},
   "outputs": [
    {
     "ename": "IndentationError",
     "evalue": "expected an indented block (<ipython-input-11-b0144e433708>, line 2)",
     "output_type": "error",
     "traceback": [
      "\u001b[0;36m  File \u001b[0;32m\"<ipython-input-11-b0144e433708>\"\u001b[0;36m, line \u001b[0;32m2\u001b[0m\n\u001b[0;31m    \u001b[0m\n\u001b[0m    ^\u001b[0m\n\u001b[0;31mIndentationError\u001b[0m\u001b[0;31m:\u001b[0m expected an indented block\n"
     ]
    }
   ],
   "source": [
    "for file in list_of_files:\n",
    "    "
   ]
  },
  {
   "cell_type": "code",
   "execution_count": null,
   "metadata": {},
   "outputs": [],
   "source": [
    "###Find crimson onset times ###\n",
    "\n",
    "idxs= list(range(len(times)))\n",
    "idxs=np.asarray(idxs)\n",
    "\n",
    "#crimson_times = zip(times, crimson)\n",
    "crimson_idxs = zip(idxs, crimson)\n",
    "\n",
    "stimulus_diff = np.diff(crimson)\n",
    "crimson_diff_times = zip (idxs, stimulus_diff)\n",
    "\n",
    "def det_crim_onset(threshold, data):\n",
    "    sortedData = sorted(data, key=lambda x: x[1])\n",
    "    finalList = filter(lambda x: x[1] > threshold, sortedData)\n",
    "    #finalList =filter(lambda x: x[0] < 45, finalList2)\n",
    "    return finalList if len(finalList) > 2 else 'No values found'\n",
    "\n",
    "#Spikes_1_crimson = cutoff_crimson(0.2, crimson_labeled_spikes_0)\n",
    "crimson_onset_points = det_crim_onset(.5, crimson_diff_times)\n",
    "\n",
    "#crimson_onset_times = [x[0] for x in crimson_onset_points]\n",
    "crimson_onset_indx= [x[0] for x in crimson_onset_points]"
   ]
  },
  {
   "cell_type": "code",
   "execution_count": null,
   "metadata": {},
   "outputs": [],
   "source": [
    "\n",
    "L = np.asarray(bl.segments[0].analogsignals[1])\n",
    "R = np.asarray(bl.segments[0].analogsignals[2])\n",
    "WSA = L - R\n",
    "\n",
    "L_times = zip(times, L)\n",
    "R_times = zip(times, R)\n",
    "WSA_times = zip(times, WSA)\n",
    "\n",
    "for i in range(len(crimson_onset_indx)):\n",
    "    k= str(i)\n",
    "    L_clip= pd.DataFrame(L[crimson_onset_indx[i]-20000:crimson_onset_indx[i]+40000])\n",
    "    L_clip.to_csv(flydir + '/S210_1/' + k + 'L_analysis.csv', index=False)\n",
    "    \n",
    "for i in range(len(crimson_onset_indx)):\n",
    "    k= str(i)\n",
    "    R_clip= pd.DataFrame(R[crimson_onset_indx[i]-20000:crimson_onset_indx[i]+40000])\n",
    "    R_clip.to_csv(flydir + '/S210_1/' + k + 'R_analysis.csv', index=False)\n",
    "\n",
    "for i in range(len(crimson_onset_indx)):\n",
    "    k= str(i)\n",
    "    WSA_clip= pd.DataFrame(WSA[crimson_onset_indx[i]-20000:crimson_onset_indx[i]+40000])\n",
    "    WSA_clip.to_csv(flydir + '/S210_1/' + k + 'WSA_analysis.csv', index=False)"
   ]
  },
  {
   "cell_type": "code",
   "execution_count": null,
   "metadata": {},
   "outputs": [],
   "source": [
    "####WBF\n",
    "\n",
    "freq = np.asarray(bl.segments[0].analogsignals[4])\n",
    "\n",
    "freq_times = zip(times, freq)\n",
    "\n",
    "for i in range(len(crimson_onset_indx)):\n",
    "    k= str(i)\n",
    "    freq_clip= pd.DataFrame(freq[crimson_onset_indx[i]-20000:crimson_onset_indx[i]+40000])\n",
    "    freq_clip.to_csv(flydir + '/S210_1/' + k + 'freq_analysis.csv', index=False)\n"
   ]
  },
  {
   "cell_type": "code",
   "execution_count": null,
   "metadata": {},
   "outputs": [],
   "source": [
    "len(hist_crimson_spikes)"
   ]
  },
  {
   "cell_type": "code",
   "execution_count": null,
   "metadata": {},
   "outputs": [],
   "source": [
    "plt.plot(crimson)"
   ]
  },
  {
   "cell_type": "code",
   "execution_count": null,
   "metadata": {},
   "outputs": [],
   "source": [
    "#export DF as csv"
   ]
  }
 ],
 "metadata": {
  "kernelspec": {
   "display_name": "Python 2",
   "language": "python",
   "name": "python2"
  },
  "language_info": {
   "codemirror_mode": {
    "name": "ipython",
    "version": 2
   },
   "file_extension": ".py",
   "mimetype": "text/x-python",
   "name": "python",
   "nbconvert_exporter": "python",
   "pygments_lexer": "ipython2",
   "version": "2.7.12"
  }
 },
 "nbformat": 4,
 "nbformat_minor": 2
}
